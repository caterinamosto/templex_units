{
 "cells": [
  {
   "cell_type": "markdown",
   "metadata": {},
   "source": [
    "# Templex properties and units\n",
    "This notebook computes templex properties (homologies, orientability chain, generatex, stripex) from a given \n",
    "generating 2-complex and its associated digraph following definitions in [Charó et al, 2022]: Charó, G. D., \n",
    "Letellier, C., & Sciamarella, D. (2022). Templex: A bridge between homologies and templates for chaotic \n",
    "attractors. Chaos: An Interdisciplinary Journal of Nonlinear Science, 32(8), 083108 (https://doi.org/10.1063/5.0092933).\n",
    "Also this code computes the templex units, algorithm associated with [Mosto et al, 2024]: Mosto C., Charó, G. D., \n",
    "Letellier, C., Sciamarella D.: Templex-based dynamical units for a taxonomy of chaos. Chaos 34, 113111 (2024).\n",
    "(https://doi.org/10.1063/5.0233160)"
   ]
  },
  {
   "cell_type": "code",
   "execution_count": 1,
   "metadata": {},
   "outputs": [],
   "source": [
    "import templex_units as templex"
   ]
  },
  {
   "cell_type": "markdown",
   "metadata": {},
   "source": [
    "List of complexes and digraphs"
   ]
  },
  {
   "cell_type": "code",
   "execution_count": 2,
   "metadata": {},
   "outputs": [],
   "source": [
    "Band=[[1,2,3,4], [2,5,6,3], [5,7,8,6], [7,9,10,8],[9,1,4,10]]\n",
    "GraphBand = [[1,2], [2,3], [3,4], [4,5], [5,1]]\n",
    "\n",
    "LorenzAttractor = [[2, 7, 6, 5, 0], [5, 6, 9, 8], [6, 7, 10, 9], [8, 9, 12, 11], [9, 10, 13, 12], \n",
    "                   [2, 0, 11, 12], [12, 13, 4, 2], [2, 16, 15, 14, 4], [14, 15, 18, 17], [15, 16, 19, 18], \n",
    "                   [17, 18, 21, 20], [18, 19, 22, 21], [20, 21, 2, 4], [21, 22, 0, 2]]\n",
    "GraphLorenzAttractor = [[1,2], [1,3], [2,4], [3,5], [4,6], [5,7], [6,1], [7,8],  \n",
    "                       [8,9], [8,10], [9,11], [10,12], [11,13], [12,14], [13,8], [14,1]]\n",
    "\n",
    "BurkeShaw = [[0, 4, 5, 1], [4, 6, 7, 8, 5], [8, 7, 10, 11], [7, 6, 9, 10], [11, 10, 3, 2], [10, 9, 2, 3], \n",
    "             [13, 12, 3, 2], [13, 16, 15, 14, 12], [15, 16, 19, 18],[14, 15, 18, 17], [18, 19, 0, 1], [17, 18, 1, 0]]\n",
    "GraphBurkeShaw = [[1,2], [2,3], [2,4], [3,5], [4,6], [5,7], [6,7], [7,8], \n",
    "   [8,9], [8,10], [9,11], [10,12], [11,1], [12,1]]\n",
    "\n",
    "MoebiusBand = [[1,2,3,4], [4,3,5,6], [6,5,1,2]]\n",
    "GraphMoebiusBand = [[1,2], [2,1]]\n",
    "\n",
    "RosslerAttractor = [[1, 3, 2, 0], [2, 3, 6, 5, 4], [4, 5, 8, 7], [5, 6, 9, 8], [7, 8, 1, 0], [1, 8, 9, 0]]\n",
    "GraphRosslerAttractor = [[1,2],[2,3], [2,4], [3,5], [4,6], [5,1], [6,1]]\n",
    "\n",
    "Rossler3Attractor = [[0, 1, 3, 2], [2, 3, 5, 4], [4, 5, 9, 8, 7, 6], [6, 7, 1, 0], [7, 8, 0, 1], [8, 9, 1, 0]]\n",
    "GraphRossler3Attractor = [[1,2], [2,3], [3,4], [3,5], [3,6], [4,1], [5,1], [6,1]]\n",
    "\n",
    "\n",
    "D4D = [[1343, 1672, 664, 1807, 1799], [664, 671, 1817, 1807], [671, 680, 1827, 1817],\n",
    "       [680, 690, 1837, 1827], [690, 8886, 1843, 1837], [8886, 700, 1847, 1843],\n",
    "       [700, 702, 1851, 1847], [702, 1672, 1343, 1799, 1851], [1343, 1799, 1787, 4289],\n",
    "       [4289, 1787, 1784, 4286], [4286, 1784, 1780, 4282], [4282, 1780, 1750, 4270],\n",
    "       [4270, 1750, 1725, 3322], [4259, 24317, 1750, 4270], [4259, 4248, 24309, 24317],\n",
    "       [4234, 24302, 24309, 4248], [24302, 4234, 23897, 23890, 23887, 24294], \n",
    "       [24294, 23887, 23870, 24280], [24280, 23870, 23785, 24230], [24230, 23785, 23745, 24200],\n",
    "       [1644, 23902, 23897, 4234], [1656, 23907, 23902, 1644], [1667, 23915, 23907, 1656],\n",
    "       [1672, 1343, 23915, 1667], [8940, 8914, 24714, 2145], [8940, 2145, 2205, 8960],\n",
    "       [2290, 9000, 8960, 2205], [2290, 2365, 9079, 9000], [2365, 2385, 9097, 9079],\n",
    "       [9097, 2385, 2395, 9109], [2395, 2403, 9115, 9109], [2403, 24957, 9121, 9115],\n",
    "       [24957, 24960, 9124, 9121], [9124, 24960, 1799, 1343], [8914, 8900, 24685, 24714],\n",
    "       [8900, 8888, 24657, 24685], [700, 8886, 8888], [24200, 23745, 8888, 24657],\n",
    "       [3322, 1725, 8888, 24657], [702, 700, 8888, 24657]]\n",
    "GraphD4D = [[1,2], [2,3], [3,4], [4,5], [5,6],  [6,7], [6,37], [7,8], [8,1], [9,1], \n",
    "     [10,9], [11,10], [12,11], [13,12], [14,12], [15,14], [16,15], [17,16], [17,21],\n",
    "     [18,17], [19,18], [20,19], [21,22], [22,23], [23,24], [24,1], [25,26], [26,27],\n",
    "     [27,28], [28,29], [29,30], [30,31], [31,32], [32,33], [33,34], [34,1], [35,25],\n",
    "     [36,35], [37,40], [38,20], [39,13], [40,36], [40,38], [40,39]] \n",
    "\n",
    "DengChaotique= [[1985, 1991, 1994, 1997, 3790, 3620], [3790, 1997, 2000, 2004, 2007, 3634, 3630], \n",
    "   [3642, 3641, 3474, 3634, 2007, 2009, 2011, 2013, 2016, 1860, 3487, 3482, 3645], \n",
    "   [2420, 3474, 3641, 3642, 3645, 3482, 3487, 1953, 901, 3585, 3580, 3575, 3570, 1940],\n",
    "   [3570, 3575, 3580, 3585, 2534, 2298, 2293, 2290, 2287, 2284, 2280],\n",
    "   [2370, 2280, 2284, 2287, 2290, 2293, 2298, 2062, 3448, 2390, 2387, 2382, 2378, 2375],\n",
    "   [3517, 2370, 2375, 2378, 2382, 2387, 2390, 3448, 2395, 1915, 3546, 3542, 3539, 3536, 3534, 3531, 3527, 3524, 3521],\n",
    "   [1985, 3517, 3521, 3524, 3527, 3531, 3534, 3536, 3539, 3542, 3546, 2494, 2256, 2016, 2013, 2011, 2009, 2007, 2004, 2000, 1997, 1994, 1991],\n",
    "   [3448, 2062, 2298, 2067, 3454], [3454, 2067, 2080, 3469], [3469, 2080, 2007, 3634, 3474],\n",
    "   [3487, 1860, 2016, 2024, 3490], [3490, 2024, 2109, 3494], [3494, 2109, 2024, 2036, 3508],\n",
    "   [3508, 2036, 2280, 2370, 3517], [3585, 2537, 2541, 2304, 2067, 2298, 2534],\n",
    "   [2550, 2560, 2319, 2080, 2067, 2304, 2541], [2560, 3790, 3630, 3634, 2007, 2080, 2319],\n",
    "   [1915, 2395, 3448, 3454, 1920, 3551, 3546],\n",
    "   [1920, 3454, 3469, 1935, 3563, 3551], [3469, 3474, 2420, 1940, 3570, 3563, 1935], \n",
    "   [2016, 2256, 2494, 3546, 3551, 1365, 2024], [2024, 1365, 3551, 3563, 2036], [2036, 3563, 3570, 2280],\n",
    "   [3585, 901, 1953, 3487, 3490, 1956, 4081, 2537],[2537, 4081, 1956, 3490, 3494, 1959, 3592, 2541],\n",
    "   [3592, 1959, 3494, 3508, 4593, 2560, 2550, 2541], [2560, 4593, 3508, 3517, 1985, 3620, 3790]]\n",
    "GraphDengChaotique= [[1,2], [2,3], [3,12], [12,13], [13,14], [14,15], [15,6], [6,9], [9,10], [10,11],\n",
    "                     [11,3], [15,7], [7,19], [19,20], [20,21], [21,4], [4,25], [25,26], [26,27],[27,28],\n",
    "                     [28,8], [28,1], [8,22], [22,23], [23,24], [24,5], [5,16], [16,17], [17,18], [18,3]]\n"
   ]
  },
  {
   "cell_type": "markdown",
   "metadata": {},
   "source": [
    "Templex calculation"
   ]
  },
  {
   "cell_type": "code",
   "execution_count": 3,
   "metadata": {},
   "outputs": [
    {
     "name": "stderr",
     "output_type": "stream",
     "text": [
      "/Users/caterinamosto/Library/Python/3.11/lib/python/site-packages/IPython/core/interactiveshell.py:3433: FutureWarning: arrays to stack must be passed as a \"sequence\" type such as list or tuple. Support for non-sequence iterables such as generators is deprecated as of NumPy 1.16 and will raise an error in the future.\n",
      "  exec(code_obj, self.user_global_ns, self.user_ns)\n",
      "/Users/caterinamosto/Downloads/templex_properties_python-main 4/templex_units.py:209: RuntimeWarning: divide by zero encountered in long_scalars\n",
      "  k=XR1[i][m]/X1[j][m]\n",
      "/Users/caterinamosto/Downloads/templex_properties_python-main 4/templex_units.py:210: RuntimeWarning: invalid value encountered in multiply\n",
      "  if all(XR1[i]==k * X1[j]):\n",
      "/Users/caterinamosto/Downloads/templex_properties_python-main 4/templex_units.py:209: RuntimeWarning: invalid value encountered in long_scalars\n",
      "  k=XR1[i][m]/X1[j][m]\n"
     ]
    },
    {
     "name": "stdout",
     "output_type": "stream",
     "text": [
      "H0~Z1\n",
      "No orientability chains.\n",
      "NUMBER OF 0-GENERATORS: 1\n",
      "NUMBER OF 1-GENERATORS: 2\n",
      "NUMBER OF 2-GENERATORS: 0\n",
      "1-GENERATOR: +[4, 14]-[4, 20]+[14, 17]+[17, 20]\n",
      "1-GENERATOR: +[0, 5]-[0, 11]+[5, 8]+[8, 11]\n",
      "H2 ~ vacío\n",
      "2-GENERATOR:[]\n",
      "Number of joining 1-cells = 2\n",
      "Joining 1-cells = [[0, 2], [2, 4]]\n",
      "Joining 2-cells = [[1, 6, 14], [7, 8, 13]]\n",
      "Joining 2-chain = (1)*[2, 7, 6, 5, 0, 2],(-1)*[2, 0, 11, 12, 2],(1)*[21, 22, 0, 2, 21],(-1)*[12, 13, 4, 2, 12],(-1)*[2, 16, 15, 14, 4, 2],(1)*[20, 21, 2, 4, 20],\n",
      "Joining subgraph =  [[6, 1], [14, 1], [7, 8], [13, 8]]\n",
      "Ingoing 2-cells in subgraph =  [6, 14, 7, 13]\n",
      "Outgoing 2-cells in subgraph =  [1, 8]\n",
      "Sub-complexes in terms of indexed 2-cells =  [[1, 3, 5, 7, 8, 10, 12, 14], [1, 2, 4, 6], [8, 9, 11, 13]]\n",
      "Sub-complexes in terms of indexed 0-cells for further analysis=  [[[2, 7, 6, 5, 0], [6, 7, 10, 9], [9, 10, 13, 12], [12, 13, 4, 2], [2, 16, 15, 14, 4], [15, 16, 19, 18], [18, 19, 22, 21], [21, 22, 0, 2]], [[2, 7, 6, 5, 0], [5, 6, 9, 8], [8, 9, 12, 11], [2, 0, 11, 12]], [[2, 16, 15, 14, 4], [14, 15, 18, 17], [17, 18, 21, 20], [20, 21, 2, 4]]]\n",
      "*********************************************************************************************    Rule: orientation cannot be propagated through the merging line. *********************************************************************************************    \n",
      "Reoriented Joining Locus =  (1)*[0, 2](-1)*[2, 4]\n",
      "Splitting 0-cell =  2\n",
      "Positive segment =  [[0, 2]]\n",
      "Negative segment =  [[2, 4]]\n",
      "Warning: When  cdn_resources is 'local' jupyter notebook has issues displaying graphics on chrome/safari. Use cdn_resources='in_line' or cdn_resources='remote' if you have issues viewing graphics in a notebook.\n",
      "Graph.html\n",
      "Generatex set =  [[1, 3, 5, 7, 8], [8, 10, 12, 14, 1], [1, 2, 4, 6, 1], [8, 9, 11, 13, 8]]\n",
      "Stripex set =  [[1, 3, 5, 7], [8, 10, 12, 14], [1, 2, 4, 6, 1], [8, 9, 11, 13, 8]]\n",
      "Warning: When  cdn_resources is 'local' jupyter notebook has issues displaying graphics on chrome/safari. Use cdn_resources='in_line' or cdn_resources='remote' if you have issues viewing graphics in a notebook.\n",
      "Reduceddigraph.html\n",
      "Bond: [[1, 2], [8, 9]]\n",
      "Warning: When  cdn_resources is 'local' jupyter notebook has issues displaying graphics on chrome/safari. Use cdn_resources='in_line' or cdn_resources='remote' if you have issues viewing graphics in a notebook.\n",
      "O-units: [[1, 2, 6], [8, 9, 13]]\n",
      "S-units: [[[[2, 7, 8]], [[9, 14, 1]]]]\n"
     ]
    }
   ],
   "source": [
    "templex.templex(LorenzAttractor,GraphLorenzAttractor)"
   ]
  },
  {
   "cell_type": "markdown",
   "metadata": {},
   "source": [
    "In Vscode: open Graph.html with Live Server extension. In spyder: select 'open externally'."
   ]
  }
 ],
 "metadata": {
  "kernelspec": {
   "display_name": "Python 3.11.2 64-bit",
   "language": "python",
   "name": "python3"
  },
  "language_info": {
   "codemirror_mode": {
    "name": "ipython",
    "version": 3
   },
   "file_extension": ".py",
   "mimetype": "text/x-python",
   "name": "python",
   "nbconvert_exporter": "python",
   "pygments_lexer": "ipython3",
   "version": "3.11.2"
  },
  "orig_nbformat": 4,
  "vscode": {
   "interpreter": {
    "hash": "b0fa6594d8f4cbf19f97940f81e996739fb7646882a419484c72d19e05852a7e"
   }
  }
 },
 "nbformat": 4,
 "nbformat_minor": 2
}
